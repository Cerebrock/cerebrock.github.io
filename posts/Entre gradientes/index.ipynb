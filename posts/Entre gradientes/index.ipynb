{
 "cells": [
  {
   "cell_type": "markdown",
   "metadata": {},
   "source": [
    "## Solving a large scale constrained non linear program for operations research with gradient descent"
   ]
  },
  {
   "cell_type": "markdown",
   "metadata": {},
   "source": [
    "- Task surveying\n",
    "- Problem Formulation\n",
    "- Introductory example\n",
    "- Scipy \n",
    "- CVXPY\n",
    "- Solution with gradient descent\n",
    "- Alternative geometric approach\n",
    "- Extra comments on deployment:\n",
    "    - Docker\n",
    "    - Cloud Services\n",
    "    - Flask API with GPU support\n",
    "    - MSSQL Server"
   ]
  },
  {
   "cell_type": "markdown",
   "metadata": {},
   "source": [
    "### Project surveing\n",
    "\n",
    "When solving data science tasks for education purposes or in online challenges (ej. Kaggle), the problem objective is given explicitly, and many times even with adequate metrics. In the industry that is not always the case, as it is frequent that clients do not bring forward a directly tractable formulation of the problem or a _Key Performance Indicator_. The optimization objective may not be trivial, so it is on the data scientist to define a formal statement. The task addressed is to distribute the stock for the next period, subject to different sets of constraints and avoiding large variations in a given vendor. Taking this inventory allocation case as an example, we would not expect the user to know that the adequate L-norm for his allocation strategy was L-\\\\(\\infty\\\\). More even, the hierarchy of groupings given by the user may have been coded as a high dimensional tensor, a tree, hypergraph, or flattened vector. Let alone the strategy for the solution.\n",
    "\n",
    "A couple of initial meetings were required to design the interface, delimit the convenient functionalities, and planning the deployment infrastructure. As I managed the development completely, I had to take into account aspects like client relationship, cost estimations, validation, and deployment. Coming from a more research-oriented career, there are points to keep an eye on as for example, be very wary about promising dates and aim to overestimate 😅. Along the way, we met for the team of analysts to audit the solution and modify the scope and specs. "
   ]
  },
  {
   "cell_type": "markdown",
   "metadata": {},
   "source": [
    "#### Problem statement"
   ]
  },
  {
   "cell_type": "markdown",
   "metadata": {},
   "source": [
    "In the abstract, optimization in this context is the process of choosing the best possible vector \\\\(\\in R^n\\\\) from a set. In this way, it encompasses many ways of decision making, and so the reason for its ubiquitous relevance. The general formulation is: "
   ]
  },
  {
   "cell_type": "markdown",
   "metadata": {},
   "source": [
    "$$\\begin{aligned}\n",
    "& \\underset{x}{\\text{minimize}}\n",
    "& & f(x) \\\\\n",
    "& \\text{subject to}\n",
    "& & f_i(x) \\leq b_i, \\; i = 1, \\ldots, m.\n",
    "\\end{aligned}$$"
   ]
  },
  {
   "cell_type": "markdown",
   "metadata": {},
   "source": [
    "In our case, the problem consists of allocating certain inventory to their possible outlets minimizing the variation with respect to the previous period, and while satisfying arbitrary constraints defined on hierarchical and overlapping categories. A stock of a \\\\(p \\in \\mathbb{N^i}\\\\) products has to be allocated to \\\\(s \\in \\mathbb{N^j}\\\\) outlets. Equality and inequality restrictions intend to modulate sales in different areas, allow compliance to commercial agreements, and respond to diverse business needs. Both \\\\(p\\\\) and \\\\(s\\\\) are classified in multiple hierarchical levels, e.g. : _channel, area, group, delivery route..._ for \\\\(s\\\\); _family, product, flavor..._ for \\\\(p\\\\). \n",
    "    One possibility for the formulation is to organize this levels into a  but forcing symetry would conveys extra memory consumption assigning redundant space (allocating a quantity of each product for each outlet when not all products are sold at all outlets). Therefore a vector is constructed as \\\\(\\textbf{q} = (s_0p_0, ..., s_ip_j)\\\\), \\\\(\\textbf{q} \\in \\mathbb{R}^{i \\times j}\\\\) where \\\\(p_is_j\\\\) corresponds to the quantity of product \\\\(i\\\\) in outlet \\\\(j\\\\), and excluding the elements \\\\(i,j\\\\) that are not applicable for the period distribution. Continuous relaxation of the \\\\(q\\\\) vector is allowed for faster computation. The optimization problem is formulated as:"
   ]
  },
  {
   "cell_type": "markdown",
   "metadata": {},
   "source": [
    "If all $f_i(x)$ fulfil linearity conditions, \\\\(f_i(αx + βy) = αf_i(x) + βf_i(y)\\\\), then the problem corresponds to a _linear program_. A more general class of problems consist of all that comply \\\\(f_i(αx + βy) ≤ αf_i(x) + βf_i(y)\\\\) given \\\\(α, β \\in [0,1], α + β = 1\\\\), corresponding to the domain of _convex problems_. Finally, with \\\\(x \\in \\mathbb{Z}\\\\), a _Mixed Integer Convex Non-Linear Program_ can be defined."
   ]
  },
  {
   "cell_type": "markdown",
   "metadata": {},
   "source": [
    "$$\\begin{aligned}\n",
    "\\underset{q}{\\text{minimize }}\n",
    "& \n",
    "| ( \\mathbf{q} - \\mathbf{q_{0}} ) \\oslash  \\mathbf{q_{0}} |^{\\infty}\n",
    "\\\\ \\text{subject to: } \n",
    "& \\textbf{R}\\textbf{q} = \\textbf{b} \\\\ \n",
    "& \\textbf{M}\\textbf{q} \\leq \\textbf{d}\n",
    "\\end{aligned}$$"
   ]
  },
  {
   "cell_type": "markdown",
   "metadata": {},
   "source": [
    "Where each row \\\\(r\\\\) in \\\\(R \\in \\{0,1\\}^{i \\times j}\\\\) represents a restriction and is defined as \\\\(r_i = 1\\\\) if the corresponding element in \\\\(\\textbf{q}\\\\) is in the subset to which the restriction applies. The symbol \\\\(\\oslash\\\\) corresponds to element-wise (or Hadamard) division."
   ]
  },
  {
   "cell_type": "markdown",
   "metadata": {},
   "source": [
    "<!-- TEASER_END -->"
   ]
  },
  {
   "cell_type": "markdown",
   "metadata": {},
   "source": [
    "The article is not at all finished. Much pruning, writting, and editing to do. Proceed at your own risk!"
   ]
  },
  {
   "cell_type": "markdown",
   "metadata": {},
   "source": [
    "#### Solution 1\n",
    "\n",
    "The general idea is to calculate the contribution of each variable $q_{ij}$ to each restriction, and average that quantity over all restrictions to apply a gradient descent $\\Delta$ on vector $q$. "
   ]
  },
  {
   "cell_type": "code",
   "execution_count": 1,
   "metadata": {},
   "outputs": [],
   "source": [
    "#This solution runs in $\\mathcal{O} ...$ time, converging to a value that minimizes a combination of $\\ell \\text{-} 2$ and $\\ell\\text{-}\\infty$ norms. "
   ]
  },
  {
   "cell_type": "markdown",
   "metadata": {},
   "source": [
    "$$\\text{Init } \\textbf{q*} := q_0 $$\n",
    "$$\\text{Repeat until convergence:}$$\n",
    "\n",
    "$$\\textbf{e} = \\textbf{b} \\oslash \\textbf{R} \\cdot \\textbf{q*}$$\n",
    "$$\\textbf{R*} = diag( \\textbf{e}) \\cdot \\textbf{R}$$\n",
    "$$\\Delta_{j} = \\frac{1}{i}\\sum_{\\{i: R*_{ij} \\neq 0\\}} \\textbf{R*}_{ij}$$\n",
    "$$\\textbf{q*} = \\textbf{q} \\odot \\Delta$$"
   ]
  },
  {
   "cell_type": "markdown",
   "metadata": {},
   "source": [
    "#### Solution 2\n",
    "This second solution consists on using a weighted inner product given by matrix $\\textbf{W}$, that makes the norm proportional to the previous vector $\\textbf{q}_0$. A first solution to the $\\textbf{R}\\textbf{q} = \\textbf{b}$ system is calculated to proyect the variety of solutions to a subspace. Then the previous vector $q_0$ is proyected to this subspace using as inner product the matrix $\\textbf{W}$ the so to find the closest vector than \n",
    "\n",
    "\n"
   ]
  },
  {
   "cell_type": "markdown",
   "metadata": {},
   "source": [
    "$$\\textbf{W} = diag(\\textbf{q}_0)$$\n",
    "$$\\textbf{s} =  \\textit{Least squares}[\\textbf{R}\\textbf{q} = \\textbf{b}]$$\n",
    "$$\\textbf{q*} = \\textbf{q}_0 - \\textbf{s}$$\n",
    "$$\\textbf{o} = \\textit{Orth}[(R \\cdot W)^T]$$\n",
    "$$\\textbf{v} = \\textbf{W} \\cdot o$$\n",
    "$$\\textbf{x} = \\textbf{o} - \\textbf{v} \\cdot (v^T \\cdot \\textbf{W}^{-2} \\cdot \\textbf{o})$$\n",
    "$$\\textbf{q} = x + s$$"
   ]
  },
  {
   "cell_type": "markdown",
   "metadata": {},
   "source": [
    "For least squares, LSQR algorithm is used (c), and the orthogonal basis $o$ is computed using singular value decomposition."
   ]
  },
  {
   "cell_type": "code",
   "execution_count": 1,
   "metadata": {},
   "outputs": [],
   "source": [
    "import numpy as np\n",
    "import re\n",
    "from scipy import sparse\n",
    "import scipy.linalg as linalg\n",
    "from scipy.sparse import csr_matrix, save_npz, load_npz, diags\n",
    "from scipy.sparse.linalg import lsqr\n",
    "from scipy.linalg import orth"
   ]
  },
  {
   "cell_type": "code",
   "execution_count": 1,
   "metadata": {},
   "outputs": [],
   "source": [
    "import pyodbc \n",
    "import re\n",
    "import numpy as np\n",
    "import pandas as pd\n",
    "from scipy.sparse import csr_matrix\n",
    "\n",
    "# Extras para visualizar\n",
    "import matplotlib.pyplot as plt\n",
    "from IPython.display import display, HTML\n",
    "import seaborn as sns\n",
    "sns.set()\n",
    "%matplotlib notebook\n",
    "CSS = \".output {flex-direction: row;}\"\n",
    "HTML('<style>{}</style>'.format(CSS))\n",
    "np.set_printoptions(precision=3, suppress=True)"
   ]
  },
  {
   "cell_type": "code",
   "execution_count": 2,
   "metadata": {},
   "outputs": [],
   "source": [
    "# Warnings que no afectan. Runtime es por fila en A que es = 0\n",
    "import warnings\n",
    "warnings.filterwarnings(\"ignore\",category= DeprecationWarning)\n",
    "warnings.filterwarnings(\"ignore\",category= FutureWarning)\n",
    "warnings.filterwarnings(\"ignore\",category= RuntimeWarning)"
   ]
  },
  {
   "cell_type": "code",
   "execution_count": 3,
   "metadata": {},
   "outputs": [],
   "source": [
    "def check_sol(A, q, b, Q, show=True, th1=1, th2=0.3):\n",
    "    \"\"\"Muestra un resumen informativo del resultado\n",
    "    A: Matriz binaria de restricciones\n",
    "    q: vector a optimizar, en ppio es WarmStart\n",
    "    b: vector con los objetivos de las restricciones (incluye ineqs)\n",
    "    th: se enumera n > th1 y n > th2\"\"\"\n",
    "    \n",
    "    Q['Dif'] = Q['Z'] / Q['WarmStart']\n",
    "    \n",
    "    data = (np.linalg.norm(Q['Dif'], ord=2), \n",
    "            Q['Dif'].max(), \n",
    "            Q['Dif'].min(),\n",
    "            Q['Dif'].mean(),   \n",
    "            Q.loc[Q['Dif'].abs() > th1].shape[0],\n",
    "            Q.loc[Q['Dif'].abs() > th2].shape[0], \n",
    "            Q[Q['Z'] < 0].shape[0], \n",
    "            np.linalg.norm(A @ q - b))\n",
    "    \n",
    "    names = f'Norma, Max, Min, Media, Mayores a {th1:.2f}' \\\n",
    "            f', Mayores a {th2:.2f}, Negativos, Norm Aq-b'.split(', ')\n",
    "    \n",
    "    data = {k:v for k,v in zip(names, data)}\n",
    "    \n",
    "    if show:\n",
    "        sns.distplot(Q['Dif'], kde=False, norm_hist=True)\n",
    "        plt.xlim(data['Min'] - 0.1, data['Max'] + 0.1)  \n",
    "        print(*[str(t[0]) + ' ' + re.search(r\"[\\d\\-]+\\.*0*[.1-9]{0,2}\", \n",
    "                str(t[1])).group(0) for t in data.items()], sep = '\\n')\n",
    "\n",
    "    return data"
   ]
  },
  {
   "cell_type": "code",
   "execution_count": 2,
   "metadata": {},
   "outputs": [],
   "source": [
    "def solve_nras(A, q, b, idx_ineqs, precision=10, verbose=False):\n",
    "    c = 0\n",
    "    d_ = np.inf\n",
    "    while True:\n",
    "        p = (b / (A @ q))\n",
    "        idx_ineqs_ok = np.where(p[idx_ineqs] > 1 + 1e-10)\n",
    "        p[idx_ineqs_ok] = 1\n",
    "        A_= A.multiply(p[:, np.newaxis])\n",
    "        P = np.squeeze(np.array(np.true_divide(A_.sum(0), (A_!=0).sum(0))))\n",
    "        q = q * P\n",
    "        d = np.linalg.norm((b - (A @ q))[[idx for idx in range(A.shape[0]) if idx not in idx_ineqs_ok]])\n",
    "        if verbose: print(d, end='\\t')\n",
    "        if d >= d_:\n",
    "            c += 1\n",
    "        d_ = d\n",
    "        if (c == 10) | (d_ < precision):\n",
    "            break\n",
    "    return q"
   ]
  },
  {
   "cell_type": "code",
   "execution_count": 4,
   "metadata": {},
   "outputs": [],
   "source": [
    "def check_sol(A=None, q = None, b=None, q0 = None, i = 0, t = 0, show=True, th1=0.60, th2=0.3, xlim=(-1, 1), ylim=None):\n",
    "    dif = (q - q0)/q0\n",
    "    data = (np.linalg.norm(dif, ord=2), np.linalg.norm(A @ q - b), dif.max(), dif.min())\n",
    "    names = f'Norma q-q0, Norma Aq-b, Max, Min'.split(', ')\n",
    "    data = {k:v for k,v in zip(names, data)}\n",
    "    if show:\n",
    "        import matplotlib.pyplot as plt\n",
    "        import seaborn as sns\n",
    "        sns.set()\n",
    "        show = plt.figure()\n",
    "        sns.distplot(dif, kde=False, norm_hist=True)\n",
    "        lim = max(np.abs([data['Max'], data['Min']])) + 0.1\n",
    "        plt.xlim(-lim, lim)  \n",
    "        if ylim: plt.ylim((0, ylim))\n",
    "        data = {t[0]: float(re.search(r\"[\\d\\-]+\\.*0*[.1-9]{0,2}\", str(t[1])).group(0)) for t in data.items()}\n",
    "\n",
    "    return data, show"
   ]
  },
  {
   "cell_type": "code",
   "execution_count": 2,
   "metadata": {},
   "outputs": [],
   "source": [
    "def solve_rel(A, q, b, idx_ineqs):\n",
    "    \"\"\"En esta solución, se encuentra el vector más cercano a q que cumple con las restricciones,\n",
    "    usando como producto interno una matriz con el inverso de q en la diagonal. \n",
    "    Resulta en diferencias relativas al valor correspondiente inicial de q.\"\"\"\n",
    "    \n",
    "    #indices de igualdades\n",
    "    eqs = [n for n in range(b.shape[0]) if n not in idx_ineqs.astype(int)]\n",
    "    #resultados actuales\n",
    "    b_ = A @ q\n",
    "    # Se les asigna a las inecuaciones incumplidas el valor maximo permitido\n",
    "    idx_ineqs_ok = np.intersect1d(np.where((b - b_) > 0), idx_ineqs).astype(int)\n",
    "    b[idx_ineqs_ok] = b_[idx_ineqs_ok]\n",
    "    \n",
    "    #matrix diagonal (sparse)\n",
    "    W = diags(q)\n",
    "    #least squares\n",
    "    sol, *_ = lsqr(A, b)\n",
    "    #de var a subesp\n",
    "    o = q - sol\n",
    "    #base ortogonal\n",
    "    ort = orth((A @ W).T.todense())\n",
    "    base = W @ ort\n",
    "    x = o - base @ (base.T @ (W.power(-2) @ o))\n",
    "    q_ = x + sol\n",
    "    return q_"
   ]
  },
  {
   "cell_type": "code",
   "execution_count": 1,
   "metadata": {},
   "outputs": [],
   "source": [
    "def solve_cvx(A, x, b, idx_ineqs, solver = 'SUPERSCS', max_iters=100, eps = 1e-09, scale=1):\n",
    "    n = x.shape[0]\n",
    "    q1 = cp.Variable(n, nonneg=True)\n",
    "    #warm start \n",
    "    q1.value = x\n",
    "\n",
    "    constraints=[]\n",
    "    for i in range(A.shape[0]):\n",
    "        if i in idx_ineqs:\n",
    "            constraint = cp.sum(q1[A[i].toarray().ravel()]) <= int(b[i])\n",
    "        else:\n",
    "            constraint = cp.sum(q1[A[i].toarray().ravel()]) == int(b[i])        \n",
    "        constraints.append(constraint)\n",
    "    \n",
    "    print('Constraints loaded.')\n",
    "    \n",
    "    obj = cp.Minimize(cp.norm(q1-x, p=1))\n",
    "    #obj = cp.Minimize(cp.norm(cp.kl_div(x, q1)))# - cp.sum(q1)))\n",
    "    prob = cp.Problem(obj, constraints)\n",
    "    print(\"Problem made.\")\n",
    "\n",
    "    # liberar memoria\n",
    "    del A, x, b\n",
    "\n",
    "    if solver == 'OSQP':\n",
    "        sol = prob.solve(solver, warm_start = True, verbose = True, max_iter=max_iters, linsys_solver='mkl pardiso')\n",
    "    elif 'SCS' in solver:\n",
    "        sol = prob.solve(solver, warm_start = True, verbose = True, max_iters=max_iters, eps=eps, scale=scale)\n",
    "    print(\"Problem solved.\")\n",
    "\n",
    "    return q1.value, sol"
   ]
  },
  {
   "cell_type": "code",
   "execution_count": 47,
   "metadata": {},
   "outputs": [
    {
     "name": "stdout",
     "output_type": "stream",
     "text": [
      "Wall time: 0 ns\n"
     ]
    }
   ],
   "source": [
    "%%time\n",
    "def solve_lstsq():\n",
    "    b[idx_ineqs[(A @ x)[idx_ineqs] <= b[idx_ineqs]]] = (A @ x)[idx_ineqs[(A @ x)[idx_ineqs] <= b[idx_ineqs]]]\n",
    "    x = np.linalg.lstsq(A.todense(), b)\n",
    "    write_sol(x)\n",
    "    validar()"
   ]
  },
  {
   "cell_type": "code",
   "execution_count": 187,
   "metadata": {},
   "outputs": [],
   "source": [
    "def perturbar(ineq=25000000):\n",
    "    b = np.loadtxt(TMP_PATH+ 'b.gz').astype('float32')\n",
    "    b[0] = ineq\n",
    "#    d = np.random.uniform(0.8, 1, size=b.shape[0])\n",
    "#    b *= d\n",
    "    np.savetxt(TMP_PATH + r'\\b.gz', b)\n",
    "\n",
    "    np.set_printoptions(suppress=True)\n",
    "    print('Diferencias con objetivos,', (A @ q - b)[:10], \n",
    "          'Resultados totales,', (A @ q)[:10], sep='\\n')"
   ]
  },
  {
   "cell_type": "code",
   "execution_count": 85,
   "metadata": {},
   "outputs": [],
   "source": [
    "def solve_nras(A, q, b, idx_ineqs, precision=10):\n",
    "    \"\"\"Devuelve (b - (A @ q)) \"\"\"\n",
    "    c = 0\n",
    "    d_ = np.inf\n",
    "    while True:\n",
    "        p = (b / (A @ q))\n",
    "        idx_ineqs_ok = np.where(p[idx_ineqs] > 1 + 1e-10)\n",
    "        p[idx_ineqs_ok] = 1\n",
    "        A_= A.multiply(p[:, np.newaxis])\n",
    "        P = np.squeeze(np.array(np.true_divide(A_.sum(0), (A_!=0).sum(0))))\n",
    "        q = q * P\n",
    "        d = np.linalg.norm((b - (A @ q))[[idx for idx in range(A.shape[0]) if idx not in idx_ineqs_ok]])\n",
    "        print(d, end='\\t')\n",
    "        if d >= d_:\n",
    "            c += 1\n",
    "        d_ = d\n",
    "        if (c == 10) | (d_ < precision):\n",
    "            break\n",
    "    return q"
   ]
  },
  {
   "cell_type": "code",
   "execution_count": 66,
   "metadata": {},
   "outputs": [],
   "source": [
    "def solve_ultra(A, q0, b, idx_ineqs, th_max=1, th_min=0.3, max_iters=10, min_coef=2, max_coef=5,  margin=10, pt=1, pc=2, max_tries=3, shuffle=True):\n",
    "    \"\"\"Resuelve resolviendo mediante norma 2 y luego iterando hacia norma inf\"\"\"\n",
    "    #indices de igualdades\n",
    "    eqs = [n for n in range(b.shape[0]) if n not in idx_ineqs.astype(int)]\n",
    "    #resultados actuales\n",
    "    b_ = A @ q0\n",
    "    # Se les asigna a las inecuaciones incumplidas el valor maximo permitido\n",
    "    idx_ineqs_ok = np.intersect1d(np.where((b - b_) > 0), idx_ineqs).astype(int)\n",
    "    b[idx_ineqs_ok] = b_[idx_ineqs_ok]\n",
    "    \n",
    "    #least squares\n",
    "    sol, *_ = lsqr(A, b)\n",
    "    #de var a subesp\n",
    "    o = q0 - sol\n",
    "    W = diags(q0).tocsr()\n",
    "\n",
    "    thresh = np.linspace(th_min, th_max, max_iters)**pt\n",
    "    coefs = np.linspace(min_coef**(1/2), max_coef**(1/2), max_iters)**pc\n",
    "    res = check_sol(A, q0, b, show=False)\n",
    "    t = 0\n",
    "    i = 0\n",
    "    while True:\n",
    "        i += 1\n",
    "        if i == max_tries+1:\n",
    "            break\n",
    "        print(f\"Thresh {thresh[-i]:.2f} Coef {coefs[-i]:.2f} { {k:round(v, 2) for k,v in res.items()} } \")\n",
    "        ort = orth((A @ W).T.todense())\n",
    "        base = W @ ort\n",
    "        x = o - base @ (base.T @ (W.power(-2) @ o))\n",
    "        q_ = x + sol\n",
    "        res_ = check_sol(A, q_, b, i, t, show=False, th1=th_max, th2=th_min)\n",
    "        if not ((res_['Max'] < res['Max']) or (res_['Min'] > res['Min']) or (res_['Norm Aq-b'] < res['Norm Aq-b'] - margin)):\n",
    "            if (t == 1) and shuffle:\n",
    "                np.random.shuffle(thresh)\n",
    "                np.random.shuffle(coefs)\n",
    "            elif t == max_tries:\n",
    "                print('Max tries reached.')\n",
    "                break\n",
    "            else:\n",
    "                t += 1\n",
    "                continue\n",
    "        q = q_\n",
    "        res = res_    \n",
    "        idx = np.argwhere(np.abs(W.power(-1) @ (q_ - q0)) > thresh[-i]).flatten().astype(int)\n",
    "        if idx.shape[0] == 0:\n",
    "            continue\n",
    "        W[idx, idx] = W[idx, idx] * (1 / coefs[-i]) \n",
    "    return q, res"
   ]
  },
  {
   "cell_type": "code",
   "execution_count": null,
   "metadata": {},
   "outputs": [],
   "source": []
  },
  {
   "cell_type": "markdown",
   "metadata": {},
   "source": [
    "### Example"
   ]
  },
  {
   "cell_type": "code",
   "execution_count": 5,
   "metadata": {},
   "outputs": [],
   "source": [
    "# Ejemplo: tenemos 5 clientes con 2 productos cada uno\n",
    "# Las restricciones serán: el cliente 1 no puede tener mas del 30% del total \n",
    "# el presupuestp del producto 1 es 100\n",
    "# el presupuesto del producto 2 es 200\n",
    "\n",
    "# Tenemos entonces un vector binario de largo q = clientes * productos\n",
    "# Cada fila representa: (cl1) p1 p2 (cl2) p1 p2 (cl3) p11 pl2 (cl4) p1 p2 (cl5) p1 p2"
   ]
  },
  {
   "cell_type": "code",
   "execution_count": 6,
   "metadata": {},
   "outputs": [],
   "source": [
    "# Restricciones\n",
    "R = sparse.csc_matrix([\n",
    "              [1, 1, 0, 0, 0, 0, 0, 0, 0, 0], \n",
    "              [1, 0, 1, 0, 1, 0, 1, 0, 1, 0],\n",
    "              [0, 1, 0, 1, 0, 1, 0, 1, 0, 1]]).astype('int8')\n",
    "#objetivos\n",
    "b = np.array([0.3*300, 100, 200])\n",
    "#var\n",
    "q = np.array([1e-10]*10)\n",
    "# Ahora definimos una distribucion prior: \n",
    "# En el último mes, lo vendido fue\n",
    "q0 = np.random.randint(1, 100, size=10).astype(float)\n",
    "idx_ineqs = np.array([0], dtype=int)"
   ]
  },
  {
   "cell_type": "code",
   "execution_count": 6,
   "metadata": {},
   "outputs": [],
   "source": [
    "q_ras = solve_nras(R,q0,b,idx_ineqs, precision=1)"
   ]
  },
  {
   "cell_type": "code",
   "execution_count": 31,
   "metadata": {},
   "outputs": [
    {
     "data": {
      "text/plain": [
       "({'Norma q-q0': 1.3931774622745055,\n",
       "  'Norma Aq-b': 16.11046206365025,\n",
       "  'Max': -0.024773658153136036,\n",
       "  'Min': -0.6713817340258267},\n",
       " False)"
      ]
     },
     "execution_count": 31,
     "metadata": {},
     "output_type": "execute_result"
    }
   ],
   "source": [
    "check_sol(R, q_ras, b, q0, show=False)"
   ]
  },
  {
   "cell_type": "code",
   "execution_count": 28,
   "metadata": {},
   "outputs": [
    {
     "name": "stdout",
     "output_type": "stream",
     "text": [
      "Thresh 1.00 Coef 5.00 {'Norma q-q0': 0.0, 'Norma Aq-b': 163.31, 'Max': 0.0, 'Min': 0.0} \n",
      "Thresh 0.92 Coef 4.60 {'Norma q-q0': 1.33, 'Norma Aq-b': 0.0, 'Max': 0.14, 'Min': -0.86} \n",
      "Thresh 0.84 Coef 4.22 {'Norma q-q0': 1.33, 'Norma Aq-b': 0.0, 'Max': 0.14, 'Min': -0.86} \n"
     ]
    },
    {
     "data": {
      "text/plain": [
       "({'Norma q-q0': 1.3328353329549263,\n",
       "  'Norma Aq-b': 1.4210854715202004e-13,\n",
       "  'Max': 0.14136896611530037,\n",
       "  'Min': -0.8568938273048282},\n",
       " False)"
      ]
     },
     "execution_count": 28,
     "metadata": {},
     "output_type": "execute_result"
    }
   ],
   "source": [
    "q_ultra, res = solve_ultra(R, q0, b, idx_ineqs)\n",
    "check_sol(R, q_ultra, b, q0, show=False)"
   ]
  },
  {
   "cell_type": "code",
   "execution_count": 29,
   "metadata": {},
   "outputs": [
    {
     "data": {
      "text/plain": [
       "(array([ 60., 263., 210.]),\n",
       " array([ 43.89156156, 100.25534034, 200.00057915]),\n",
       " array([ 60., 100., 200.]))"
      ]
     },
     "execution_count": 29,
     "metadata": {},
     "output_type": "execute_result"
    }
   ],
   "source": [
    "R @ q0, R @ q_ras, R @ q_ultra"
   ]
  },
  {
   "cell_type": "code",
   "execution_count": 30,
   "metadata": {},
   "outputs": [
    {
     "data": {
      "text/plain": [
       "matrix([[1, 1, 0, 0, 0, 0, 0, 0, 0, 0],\n",
       "        [1, 0, 1, 0, 1, 0, 1, 0, 1, 0],\n",
       "        [0, 1, 0, 1, 0, 1, 0, 1, 0, 1]], dtype=int8)"
      ]
     },
     "execution_count": 30,
     "metadata": {},
     "output_type": "execute_result"
    }
   ],
   "source": [
    "R.todense()"
   ]
  },
  {
   "cell_type": "code",
   "execution_count": 22,
   "metadata": {},
   "outputs": [
    {
     "data": {
      "text/plain": [
       "[matrix([[ 0. , -1. ,  1. ,  0. ,  1. ,  0. ,  1. ,  0. ,  1. ,  0. ],\n",
       "         [-0.5,  0. ,  0. ,  0.5,  0. ,  0.5,  0. ,  0.5,  0. ,  0.5],\n",
       "         [-1. ,  1. , -1. ,  1. , -1. ,  1. , -1. ,  1. , -1. ,  1. ]]),\n",
       " matrix([[ 0. , -0.5, -0.5,  0. ,  0. ,  0. ,  0. ,  0. ,  0. ,  0. ],\n",
       "         [-1. ,  0. ,  0. ,  0. ,  0. ,  0. ,  0. ,  0. ,  0. , -1. ],\n",
       "         [ 1. ,  0. ,  0. ,  0. ,  0. ,  0. ,  0. ,  0. ,  0. ,  1. ]])]"
      ]
     },
     "execution_count": 22,
     "metadata": {},
     "output_type": "execute_result"
    }
   ],
   "source": [
    "np.gradient(R.todense())"
   ]
  },
  {
   "cell_type": "code",
   "execution_count": 1,
   "metadata": {},
   "outputs": [],
   "source": [
    "import numpy as np\n",
    "from scipy import sparse\n",
    "import scipy.linalg as linalg"
   ]
  },
  {
   "cell_type": "code",
   "execution_count": 32,
   "metadata": {},
   "outputs": [],
   "source": [
    "R = np.array([[1,0,1], [1,0,0], [1,1,0]])\n",
    "b = np.array([0,0,0])\n",
    "q = np.array([50, 60, 10]).astype(float)"
   ]
  },
  {
   "cell_type": "code",
   "execution_count": 33,
   "metadata": {},
   "outputs": [],
   "source": [
    "sol, res, rank, s = linalg.lstsq(R, b)"
   ]
  },
  {
   "cell_type": "code",
   "execution_count": 34,
   "metadata": {},
   "outputs": [],
   "source": [
    "o = q - sol"
   ]
  },
  {
   "cell_type": "code",
   "execution_count": 35,
   "metadata": {},
   "outputs": [],
   "source": [
    "R_null = linalg.null_space(R)"
   ]
  },
  {
   "cell_type": "code",
   "execution_count": 36,
   "metadata": {},
   "outputs": [],
   "source": [
    "p =  R_null @ (R_null.T @ o) "
   ]
  },
  {
   "cell_type": "code",
   "execution_count": 37,
   "metadata": {},
   "outputs": [],
   "source": [
    "A = sparse.csc_matrix([\n",
    "              [1, 1, 0, 0, 0, 0, 0, 0, 0, 0], \n",
    "              [1, 0, 1, 0, 1, 0, 1, 0, 1, 0],\n",
    "              [0, 1, 0, 1, 0, 1, 0, 1, 0, 1]]).astype('int8')\n",
    "\n",
    "x = np.zeros(10)\n",
    "b = np.array([0.3*300, 100, 200])\n",
    "\n",
    "# Ahora definimos una distribucion prior: \n",
    "# En el último mes, lo vendido fue\n",
    "q = np.array([50, 60, 10, 20, 40, 20, 4, 7, 12, 40]).astype(float)"
   ]
  },
  {
   "cell_type": "code",
   "execution_count": 38,
   "metadata": {},
   "outputs": [
    {
     "data": {
      "text/plain": [
       "array([0., 0., 0.])"
      ]
     },
     "execution_count": 38,
     "metadata": {},
     "output_type": "execute_result"
    }
   ],
   "source": [
    "sol + p"
   ]
  },
  {
   "cell_type": "code",
   "execution_count": 39,
   "metadata": {},
   "outputs": [
    {
     "data": {
      "text/plain": [
       "array([[ 0.,  1.,  0.],\n",
       "       [ 0., -1.,  1.],\n",
       "       [ 1., -1., -0.]])"
      ]
     },
     "execution_count": 39,
     "metadata": {},
     "output_type": "execute_result"
    }
   ],
   "source": [
    "np.linalg.inv(R)"
   ]
  },
  {
   "cell_type": "code",
   "execution_count": 70,
   "metadata": {},
   "outputs": [],
   "source": [
    "#A @ q"
   ]
  },
  {
   "cell_type": "code",
   "execution_count": 71,
   "metadata": {},
   "outputs": [],
   "source": [
    "# Ejemplo: tenemos 5 clientes con 2 productos cada uno\n",
    "# Las restricciones serán: el cliente 1 no puede tener mas del 30% del total \n",
    "# el presupuestp del producto 1 es 100\n",
    "# el presupuesto del producto 2 es 200\n",
    "\n",
    "# Tenemos entonces un vector binario de largo q = clientes * productos\n",
    "# Cada fila representa: (cl1) p1 p2 (cl2) p1 p2 (cl3) p11 pl2 (cl4) p1 p2 (cl5) p1 p2"
   ]
  },
  {
   "cell_type": "code",
   "execution_count": 72,
   "metadata": {},
   "outputs": [],
   "source": [
    "q_ = q.copy()"
   ]
  },
  {
   "cell_type": "code",
   "execution_count": 74,
   "metadata": {},
   "outputs": [
    {
     "data": {
      "text/plain": [
       "(array([110., 116., 147.]), array([ 20.,  16., -53.]))"
      ]
     },
     "execution_count": 74,
     "metadata": {},
     "output_type": "execute_result"
    }
   ],
   "source": [
    "# resultado anterior, diferencia\n",
    "A @ q_, A @ q_ - b, "
   ]
  },
  {
   "cell_type": "code",
   "execution_count": null,
   "metadata": {},
   "outputs": [],
   "source": []
  },
  {
   "cell_type": "code",
   "execution_count": 1,
   "metadata": {},
   "outputs": [],
   "source": [
    "import numpy as np\n",
    "from scipy import sparse\n",
    "import scipy.linalg as linalg"
   ]
  },
  {
   "cell_type": "code",
   "execution_count": 32,
   "metadata": {},
   "outputs": [],
   "source": [
    "R = np.array([[1,0,1], [1,0,0], [1,1,0]])\n",
    "b = np.array([0,0,0])\n",
    "q = np.array([50, 60, 10]).astype(float)"
   ]
  },
  {
   "cell_type": "code",
   "execution_count": 33,
   "metadata": {},
   "outputs": [],
   "source": [
    "sol, res, rank, s = linalg.lstsq(R, b)"
   ]
  },
  {
   "cell_type": "code",
   "execution_count": 34,
   "metadata": {},
   "outputs": [],
   "source": [
    "o = q - sol"
   ]
  },
  {
   "cell_type": "code",
   "execution_count": 35,
   "metadata": {},
   "outputs": [],
   "source": [
    "R_null = linalg.null_space(R)"
   ]
  },
  {
   "cell_type": "code",
   "execution_count": 36,
   "metadata": {},
   "outputs": [],
   "source": [
    "p =  R_null @ (R_null.T @ o) "
   ]
  },
  {
   "cell_type": "code",
   "execution_count": 37,
   "metadata": {},
   "outputs": [],
   "source": [
    "A = sparse.csc_matrix([\n",
    "              [1, 1, 0, 0, 0, 0, 0, 0, 0, 0], \n",
    "              [1, 0, 1, 0, 1, 0, 1, 0, 1, 0],\n",
    "              [0, 1, 0, 1, 0, 1, 0, 1, 0, 1]]).astype('int8')\n",
    "\n",
    "x = np.zeros(10)\n",
    "b = np.array([0.3*300, 100, 200])\n",
    "\n",
    "# Ahora definimos una distribucion prior: \n",
    "# En el último mes, lo vendido fue\n",
    "q = np.array([50, 60, 10, 20, 40, 20, 4, 7, 12, 40]).astype(float)"
   ]
  },
  {
   "cell_type": "code",
   "execution_count": 38,
   "metadata": {},
   "outputs": [
    {
     "data": {
      "text/plain": [
       "array([0., 0., 0.])"
      ]
     },
     "execution_count": 38,
     "metadata": {},
     "output_type": "execute_result"
    }
   ],
   "source": [
    "sol + p"
   ]
  },
  {
   "cell_type": "code",
   "execution_count": 39,
   "metadata": {},
   "outputs": [
    {
     "data": {
      "text/plain": [
       "array([[ 0.,  1.,  0.],\n",
       "       [ 0., -1.,  1.],\n",
       "       [ 1., -1., -0.]])"
      ]
     },
     "execution_count": 39,
     "metadata": {},
     "output_type": "execute_result"
    }
   ],
   "source": [
    "np.linalg.inv(R)"
   ]
  },
  {
   "cell_type": "code",
   "execution_count": 70,
   "metadata": {},
   "outputs": [],
   "source": [
    "#A @ q"
   ]
  },
  {
   "cell_type": "code",
   "execution_count": 71,
   "metadata": {},
   "outputs": [],
   "source": [
    "# Ejemplo: tenemos 5 clientes con 2 productos cada uno\n",
    "# Las restricciones serán: el cliente 1 no puede tener mas del 30% del total \n",
    "# el presupuestp del producto 1 es 100\n",
    "# el presupuesto del producto 2 es 200\n",
    "\n",
    "# Tenemos entonces un vector binario de largo q = clientes * productos\n",
    "# Cada fila representa: (cl1) p1 p2 (cl2) p1 p2 (cl3) p11 pl2 (cl4) p1 p2 (cl5) p1 p2"
   ]
  },
  {
   "cell_type": "code",
   "execution_count": 72,
   "metadata": {},
   "outputs": [],
   "source": [
    "q_ = q.copy()"
   ]
  },
  {
   "cell_type": "code",
   "execution_count": 74,
   "metadata": {},
   "outputs": [
    {
     "data": {
      "text/plain": [
       "(array([110., 116., 147.]), array([ 20.,  16., -53.]))"
      ]
     },
     "execution_count": 74,
     "metadata": {},
     "output_type": "execute_result"
    }
   ],
   "source": [
    "# resultado anterior, diferencia\n",
    "A @ q_, A @ q_ - b, "
   ]
  },
  {
   "cell_type": "code",
   "execution_count": 75,
   "metadata": {},
   "outputs": [
    {
     "data": {
      "text/plain": [
       "array([50., 60., 10., 20., 40., 20.,  4.,  7., 12., 40.])"
      ]
     },
     "execution_count": 75,
     "metadata": {},
     "output_type": "execute_result"
    }
   ],
   "source": [
    "q_"
   ]
  },
  {
   "cell_type": "code",
   "execution_count": null,
   "metadata": {},
   "outputs": [],
   "source": []
  },
  {
   "cell_type": "code",
   "execution_count": null,
   "metadata": {},
   "outputs": [],
   "source": []
  },
  {
   "cell_type": "code",
   "execution_count": null,
   "metadata": {},
   "outputs": [],
   "source": []
  },
  {
   "cell_type": "markdown",
   "metadata": {},
   "source": [
    "#### Results"
   ]
  },
  {
   "cell_type": "markdown",
   "metadata": {},
   "source": [
    "![](resultsNRAS.png) ![](resultsPROJ.png)"
   ]
  },
  {
   "cell_type": "markdown",
   "metadata": {},
   "source": []
  },
  {
   "cell_type": "code",
   "execution_count": null,
   "metadata": {},
   "outputs": [],
   "source": []
  },
  {
   "cell_type": "code",
   "execution_count": null,
   "metadata": {},
   "outputs": [],
   "source": []
  },
  {
   "cell_type": "code",
   "execution_count": 4,
   "metadata": {},
   "outputs": [],
   "source": [
    "# Conectamos a la base y traemos los datos"
   ]
  },
  {
   "cell_type": "code",
   "execution_count": 5,
   "metadata": {},
   "outputs": [],
   "source": [
    "verbose = True\n",
    "precision = 10\n",
    "max_tries = 5\n",
    "periodo = '201909'"
   ]
  },
  {
   "cell_type": "raw",
   "metadata": {},
   "source": [
    "conn = pyodbc.connect('Driver={SQL Server Native Client 11.0};'\n",
    "                    'Server=;'\n",
    "                    'Database=;'\n",
    "                    'Trusted_Connection=no;'\n",
    "                    'UID=;'\n",
    "                    'PWD=;'\n",
    "                    'PORT=1433;'\n",
    "                    )"
   ]
  },
  {
   "cell_type": "raw",
   "metadata": {
    "hideOutput": true
   },
   "source": [
    "# Es posible que el fillna y reset index no sean necesarios\n",
    "restr = pd.read_sql('SELECT * from RestriccionesView WHERE Periodo = '+str(periodo), conn).fillna(np.nan)\n",
    "PRESUP = pd.read_sql('SELECT * from PresupuestosView WHERE Periodo = '+str(periodo), conn).fillna(np.nan)\n",
    "restr = restr.append(PRESUP).reset_index()\n",
    "PRESUP = PRESUP.set_index('Prod')['Cantidad']"
   ]
  },
  {
   "cell_type": "raw",
   "metadata": {},
   "source": [
    "%%time\n",
    "query = f\"\"\"\"\"\"\n",
    "Q = pd.read_sql(query, conn)"
   ]
  },
  {
   "cell_type": "raw",
   "metadata": {},
   "source": [
    "i = 0\n",
    "for name, df in [('Q', Q),\n",
    "           ('restr', restr),\n",
    "           ('PRESUP', PRESUP)]:\n",
    "    df.to_csv(name+'.csv')"
   ]
  },
  {
   "cell_type": "code",
   "execution_count": 6,
   "metadata": {},
   "outputs": [],
   "source": [
    "Q = pd.read_csv('Q.csv', index_col=0)\n",
    "restr = pd.read_csv('restr.csv', index_col=0).drop('index', axis=1)\n",
    "PRESUP = pd.read_csv('PRESUP.csv', header=None)\n",
    "PRESUP.columns = ['Prod', 'Cant']\n",
    "PRESUP = PRESUP.set_index('Prod')['Cant']"
   ]
  },
  {
   "cell_type": "code",
   "execution_count": 7,
   "metadata": {},
   "outputs": [
    {
     "data": {
      "text/html": [
       "<div>\n",
       "<style scoped>\n",
       "    .dataframe tbody tr th:only-of-type {\n",
       "        vertical-align: middle;\n",
       "    }\n",
       "\n",
       "    .dataframe tbody tr th {\n",
       "        vertical-align: top;\n",
       "    }\n",
       "\n",
       "    .dataframe thead th {\n",
       "        text-align: right;\n",
       "    }\n",
       "</style>\n",
       "<table border=\"1\" class=\"dataframe\">\n",
       "  <thead>\n",
       "    <tr style=\"text-align: right;\">\n",
       "      <th></th>\n",
       "      <th>Periodo</th>\n",
       "      <th>Cliente</th>\n",
       "      <th>Suc</th>\n",
       "      <th>Prod</th>\n",
       "      <th>Flia</th>\n",
       "      <th>VtaNeta</th>\n",
       "      <th>WarmStart</th>\n",
       "      <th>Z</th>\n",
       "      <th>Canal</th>\n",
       "      <th>Zona</th>\n",
       "      <th>CMHSA</th>\n",
       "      <th>GrupoEconomico</th>\n",
       "    </tr>\n",
       "  </thead>\n",
       "  <tbody>\n",
       "    <tr>\n",
       "      <th>588171</th>\n",
       "      <td>201909</td>\n",
       "      <td>432834</td>\n",
       "      <td>1</td>\n",
       "      <td>1658</td>\n",
       "      <td>13</td>\n",
       "      <td>3.6</td>\n",
       "      <td>2.953085</td>\n",
       "      <td>NaN</td>\n",
       "      <td>311</td>\n",
       "      <td>2395</td>\n",
       "      <td>0</td>\n",
       "      <td>NaN</td>\n",
       "    </tr>\n",
       "    <tr>\n",
       "      <th>1235915</th>\n",
       "      <td>201909</td>\n",
       "      <td>499634</td>\n",
       "      <td>1</td>\n",
       "      <td>446</td>\n",
       "      <td>7</td>\n",
       "      <td>7.2</td>\n",
       "      <td>5.453880</td>\n",
       "      <td>NaN</td>\n",
       "      <td>310</td>\n",
       "      <td>2381</td>\n",
       "      <td>301</td>\n",
       "      <td>NaN</td>\n",
       "    </tr>\n",
       "    <tr>\n",
       "      <th>1090837</th>\n",
       "      <td>201909</td>\n",
       "      <td>90692</td>\n",
       "      <td>1</td>\n",
       "      <td>1662</td>\n",
       "      <td>13</td>\n",
       "      <td>1.0</td>\n",
       "      <td>0.746506</td>\n",
       "      <td>NaN</td>\n",
       "      <td>311</td>\n",
       "      <td>2420</td>\n",
       "      <td>0</td>\n",
       "      <td>NaN</td>\n",
       "    </tr>\n",
       "    <tr>\n",
       "      <th>131802</th>\n",
       "      <td>201909</td>\n",
       "      <td>470525</td>\n",
       "      <td>1</td>\n",
       "      <td>3491</td>\n",
       "      <td>1</td>\n",
       "      <td>304.0</td>\n",
       "      <td>315.951584</td>\n",
       "      <td>NaN</td>\n",
       "      <td>311</td>\n",
       "      <td>2382</td>\n",
       "      <td>0</td>\n",
       "      <td>NaN</td>\n",
       "    </tr>\n",
       "    <tr>\n",
       "      <th>389881</th>\n",
       "      <td>201909</td>\n",
       "      <td>195433</td>\n",
       "      <td>2</td>\n",
       "      <td>1459</td>\n",
       "      <td>13</td>\n",
       "      <td>1.4</td>\n",
       "      <td>1.115930</td>\n",
       "      <td>NaN</td>\n",
       "      <td>311</td>\n",
       "      <td>2388</td>\n",
       "      <td>0</td>\n",
       "      <td>NaN</td>\n",
       "    </tr>\n",
       "  </tbody>\n",
       "</table>\n",
       "</div>"
      ],
      "text/plain": [
       "         Periodo  Cliente  Suc  Prod  Flia  VtaNeta   WarmStart   Z  Canal  \\\n",
       "588171    201909   432834    1  1658    13      3.6    2.953085 NaN    311   \n",
       "1235915   201909   499634    1   446     7      7.2    5.453880 NaN    310   \n",
       "1090837   201909    90692    1  1662    13      1.0    0.746506 NaN    311   \n",
       "131802    201909   470525    1  3491     1    304.0  315.951584 NaN    311   \n",
       "389881    201909   195433    2  1459    13      1.4    1.115930 NaN    311   \n",
       "\n",
       "         Zona  CMHSA  GrupoEconomico  \n",
       "588171   2395      0             NaN  \n",
       "1235915  2381    301             NaN  \n",
       "1090837  2420      0             NaN  \n",
       "131802   2382      0             NaN  \n",
       "389881   2388      0             NaN  "
      ]
     },
     "execution_count": 7,
     "metadata": {},
     "output_type": "execute_result"
    }
   ],
   "source": [
    "# Observamos las tablas\n",
    "Q.sample(5)"
   ]
  },
  {
   "cell_type": "code",
   "execution_count": 8,
   "metadata": {
    "hideOutput": true
   },
   "outputs": [
    {
     "data": {
      "text/plain": [
       "array([ nan, 394., 395., 414., 385., 389., 402., 410., 406., 383., 397.,\n",
       "       409., 408., 391., 384., 387., 411., 388., 403., 401., 393., 407.,\n",
       "       404., 396., 392., 405., 400., 413., 390., 412., 398., 386., 399.])"
      ]
     },
     "metadata": {},
     "output_type": "display_data"
    }
   ],
   "source": [
    "## GrupoEconomico NaN ?\n",
    "display(Q['GrupoEconomico'].unique())"
   ]
  },
  {
   "cell_type": "code",
   "execution_count": 9,
   "metadata": {},
   "outputs": [
    {
     "data": {
      "text/html": [
       "<div>\n",
       "<style scoped>\n",
       "    .dataframe tbody tr th:only-of-type {\n",
       "        vertical-align: middle;\n",
       "    }\n",
       "\n",
       "    .dataframe tbody tr th {\n",
       "        vertical-align: top;\n",
       "    }\n",
       "\n",
       "    .dataframe thead th {\n",
       "        text-align: right;\n",
       "    }\n",
       "</style>\n",
       "<table border=\"1\" class=\"dataframe\">\n",
       "  <thead>\n",
       "    <tr style=\"text-align: right;\">\n",
       "      <th></th>\n",
       "      <th>CMHSA</th>\n",
       "      <th>Canal</th>\n",
       "      <th>Cantidad</th>\n",
       "      <th>Cliente</th>\n",
       "      <th>Flia</th>\n",
       "      <th>GrupoEconomico</th>\n",
       "      <th>Periodo</th>\n",
       "      <th>PorcentajeRelativo</th>\n",
       "      <th>PorcentajeTotal</th>\n",
       "      <th>Prod</th>\n",
       "      <th>Simb</th>\n",
       "      <th>Suc</th>\n",
       "      <th>Zona</th>\n",
       "    </tr>\n",
       "  </thead>\n",
       "  <tbody>\n",
       "    <tr>\n",
       "      <th>0</th>\n",
       "      <td>NaN</td>\n",
       "      <td>308.0</td>\n",
       "      <td>NaN</td>\n",
       "      <td>NaN</td>\n",
       "      <td>NaN</td>\n",
       "      <td>NaN</td>\n",
       "      <td>201909</td>\n",
       "      <td>NaN</td>\n",
       "      <td>30.0</td>\n",
       "      <td>NaN</td>\n",
       "      <td>0.0</td>\n",
       "      <td>NaN</td>\n",
       "      <td>NaN</td>\n",
       "    </tr>\n",
       "    <tr>\n",
       "      <th>1</th>\n",
       "      <td>NaN</td>\n",
       "      <td>NaN</td>\n",
       "      <td>71100.0</td>\n",
       "      <td>NaN</td>\n",
       "      <td>NaN</td>\n",
       "      <td>NaN</td>\n",
       "      <td>201909</td>\n",
       "      <td>NaN</td>\n",
       "      <td>NaN</td>\n",
       "      <td>15.0</td>\n",
       "      <td>NaN</td>\n",
       "      <td>NaN</td>\n",
       "      <td>NaN</td>\n",
       "    </tr>\n",
       "    <tr>\n",
       "      <th>2</th>\n",
       "      <td>NaN</td>\n",
       "      <td>NaN</td>\n",
       "      <td>170786.0</td>\n",
       "      <td>NaN</td>\n",
       "      <td>NaN</td>\n",
       "      <td>NaN</td>\n",
       "      <td>201909</td>\n",
       "      <td>NaN</td>\n",
       "      <td>NaN</td>\n",
       "      <td>44.0</td>\n",
       "      <td>NaN</td>\n",
       "      <td>NaN</td>\n",
       "      <td>NaN</td>\n",
       "    </tr>\n",
       "    <tr>\n",
       "      <th>3</th>\n",
       "      <td>NaN</td>\n",
       "      <td>NaN</td>\n",
       "      <td>160496.0</td>\n",
       "      <td>NaN</td>\n",
       "      <td>NaN</td>\n",
       "      <td>NaN</td>\n",
       "      <td>201909</td>\n",
       "      <td>NaN</td>\n",
       "      <td>NaN</td>\n",
       "      <td>52.0</td>\n",
       "      <td>NaN</td>\n",
       "      <td>NaN</td>\n",
       "      <td>NaN</td>\n",
       "    </tr>\n",
       "    <tr>\n",
       "      <th>4</th>\n",
       "      <td>NaN</td>\n",
       "      <td>NaN</td>\n",
       "      <td>246550.0</td>\n",
       "      <td>NaN</td>\n",
       "      <td>NaN</td>\n",
       "      <td>NaN</td>\n",
       "      <td>201909</td>\n",
       "      <td>NaN</td>\n",
       "      <td>NaN</td>\n",
       "      <td>54.0</td>\n",
       "      <td>NaN</td>\n",
       "      <td>NaN</td>\n",
       "      <td>NaN</td>\n",
       "    </tr>\n",
       "    <tr>\n",
       "      <th>5</th>\n",
       "      <td>NaN</td>\n",
       "      <td>NaN</td>\n",
       "      <td>1947.0</td>\n",
       "      <td>NaN</td>\n",
       "      <td>NaN</td>\n",
       "      <td>NaN</td>\n",
       "      <td>201909</td>\n",
       "      <td>NaN</td>\n",
       "      <td>NaN</td>\n",
       "      <td>56.0</td>\n",
       "      <td>NaN</td>\n",
       "      <td>NaN</td>\n",
       "      <td>NaN</td>\n",
       "    </tr>\n",
       "    <tr>\n",
       "      <th>6</th>\n",
       "      <td>NaN</td>\n",
       "      <td>NaN</td>\n",
       "      <td>5643.0</td>\n",
       "      <td>NaN</td>\n",
       "      <td>NaN</td>\n",
       "      <td>NaN</td>\n",
       "      <td>201909</td>\n",
       "      <td>NaN</td>\n",
       "      <td>NaN</td>\n",
       "      <td>58.0</td>\n",
       "      <td>NaN</td>\n",
       "      <td>NaN</td>\n",
       "      <td>NaN</td>\n",
       "    </tr>\n",
       "    <tr>\n",
       "      <th>7</th>\n",
       "      <td>NaN</td>\n",
       "      <td>NaN</td>\n",
       "      <td>48390.0</td>\n",
       "      <td>NaN</td>\n",
       "      <td>NaN</td>\n",
       "      <td>NaN</td>\n",
       "      <td>201909</td>\n",
       "      <td>NaN</td>\n",
       "      <td>NaN</td>\n",
       "      <td>64.0</td>\n",
       "      <td>NaN</td>\n",
       "      <td>NaN</td>\n",
       "      <td>NaN</td>\n",
       "    </tr>\n",
       "    <tr>\n",
       "      <th>8</th>\n",
       "      <td>NaN</td>\n",
       "      <td>NaN</td>\n",
       "      <td>91361.0</td>\n",
       "      <td>NaN</td>\n",
       "      <td>NaN</td>\n",
       "      <td>NaN</td>\n",
       "      <td>201909</td>\n",
       "      <td>NaN</td>\n",
       "      <td>NaN</td>\n",
       "      <td>67.0</td>\n",
       "      <td>NaN</td>\n",
       "      <td>NaN</td>\n",
       "      <td>NaN</td>\n",
       "    </tr>\n",
       "    <tr>\n",
       "      <th>9</th>\n",
       "      <td>NaN</td>\n",
       "      <td>NaN</td>\n",
       "      <td>8011.0</td>\n",
       "      <td>NaN</td>\n",
       "      <td>NaN</td>\n",
       "      <td>NaN</td>\n",
       "      <td>201909</td>\n",
       "      <td>NaN</td>\n",
       "      <td>NaN</td>\n",
       "      <td>68.0</td>\n",
       "      <td>NaN</td>\n",
       "      <td>NaN</td>\n",
       "      <td>NaN</td>\n",
       "    </tr>\n",
       "  </tbody>\n",
       "</table>\n",
       "</div>"
      ],
      "text/plain": [
       "   CMHSA  Canal  Cantidad  Cliente  Flia  GrupoEconomico  Periodo  \\\n",
       "0    NaN  308.0       NaN      NaN   NaN             NaN   201909   \n",
       "1    NaN    NaN   71100.0      NaN   NaN             NaN   201909   \n",
       "2    NaN    NaN  170786.0      NaN   NaN             NaN   201909   \n",
       "3    NaN    NaN  160496.0      NaN   NaN             NaN   201909   \n",
       "4    NaN    NaN  246550.0      NaN   NaN             NaN   201909   \n",
       "5    NaN    NaN    1947.0      NaN   NaN             NaN   201909   \n",
       "6    NaN    NaN    5643.0      NaN   NaN             NaN   201909   \n",
       "7    NaN    NaN   48390.0      NaN   NaN             NaN   201909   \n",
       "8    NaN    NaN   91361.0      NaN   NaN             NaN   201909   \n",
       "9    NaN    NaN    8011.0      NaN   NaN             NaN   201909   \n",
       "\n",
       "   PorcentajeRelativo  PorcentajeTotal  Prod  Simb  Suc  Zona  \n",
       "0                 NaN             30.0   NaN   0.0  NaN   NaN  \n",
       "1                 NaN              NaN  15.0   NaN  NaN   NaN  \n",
       "2                 NaN              NaN  44.0   NaN  NaN   NaN  \n",
       "3                 NaN              NaN  52.0   NaN  NaN   NaN  \n",
       "4                 NaN              NaN  54.0   NaN  NaN   NaN  \n",
       "5                 NaN              NaN  56.0   NaN  NaN   NaN  \n",
       "6                 NaN              NaN  58.0   NaN  NaN   NaN  \n",
       "7                 NaN              NaN  64.0   NaN  NaN   NaN  \n",
       "8                 NaN              NaN  67.0   NaN  NaN   NaN  \n",
       "9                 NaN              NaN  68.0   NaN  NaN   NaN  "
      ]
     },
     "execution_count": 9,
     "metadata": {},
     "output_type": "execute_result"
    }
   ],
   "source": [
    "restr.head(10)"
   ]
  },
  {
   "cell_type": "code",
   "execution_count": 10,
   "metadata": {},
   "outputs": [
    {
     "data": {
      "text/plain": [
       "(1612076, 12)"
      ]
     },
     "execution_count": 10,
     "metadata": {},
     "output_type": "execute_result"
    }
   ],
   "source": [
    "Q.shape"
   ]
  },
  {
   "cell_type": "code",
   "execution_count": null,
   "metadata": {},
   "outputs": [],
   "source": []
  },
  {
   "cell_type": "code",
   "execution_count": 11,
   "metadata": {},
   "outputs": [
    {
     "name": "stdout",
     "output_type": "stream",
     "text": [
      "0 1 2 3 4 5 6 7 8 9 10 11 12 13 14 15 16 17 18 19 20 21 22 23 24 25 26 27 28 29 30 31 32 33 34 35 36 37 38 39 40 41 42 43 44 45 46 47 48 49 50 51 52 53 54 55 56 57 58 59 60 61 62 63 64 65 66 67 68 69 70 71 72 73 74 75 76 77 78 79 80 81 82 83 84 85 86 87 88 89 90 91 92 93 94 95 96 97 98 99 100 101 102 103 104 105 106 107 108 109 110 111 112 113 114 115 116 117 118 119 120 121 122 123 124 125 126 127 128 129 130 131 132 133 134 135 136 137 138 139 140 141 142 143 144 145 146 \n",
      "\n"
     ]
    }
   ],
   "source": [
    "# Preparamos las matrices A y b para resolver A @ q <= b\n",
    "q = Q['WarmStart'].values\n",
    "pr_fl = Q.groupby('Prod')['Flia'].first()\n",
    "\n",
    "A = []\n",
    "b = []\n",
    "\n",
    "for i, row in restr.iterrows():\n",
    "    print(i, end=' ')\n",
    "    cols = row[['Zona', 'CMHSA', 'Canal', 'GrupoEconomico', 'Cliente', 'Suc', 'Flia', 'Prod']].dropna()\n",
    "    mask = np.logical_and.reduce([(Q[c] == v) for c,v in cols.items()])\n",
    "    A.append(mask)\n",
    "    row = row.dropna()\n",
    "    if 'Cantidad' in row.index:\n",
    "        if (('Flia' in row.index) | ('Prod' in row.index)):\n",
    "            b.append(row['Cantidad'])\n",
    "        else:\n",
    "            b.append(PRESUP.sum())\n",
    "    elif 'PorcentajeRelativo' in row.index:\n",
    "        uni = (row['PorcentajeRelativo']/100) * (Q['WarmStart'].values @ mask)\n",
    "        b.append(uni)\n",
    "    elif 'PorcentajeTotal' in row.index:\n",
    "        if ('Flia' in row.index):\n",
    "            uni = (row['PorcentajeTotal']/100) * PRESUP.loc[pr_fl[pr_fl == row['Flia']].index.values].sum()\n",
    "        elif 'Prod' in row.index:\n",
    "            uni = (row['PorcentajeTotal']/100) * PRESUP[pr_fl[pr_fl.index == row['Prod']].index.values].sum()\n",
    "        else:\n",
    "            uni = (row['PorcentajeTotal']/100) * PRESUP.sum()\n",
    "        b.append(uni)\n",
    "    else:\n",
    "        raise Exception(\"Error en restriccion.\")\n",
    "        print('Restricciones terminadas.')\n",
    "print('\\n')"
   ]
  },
  {
   "cell_type": "code",
   "execution_count": 12,
   "metadata": {},
   "outputs": [
    {
     "name": "stdout",
     "output_type": "stream",
     "text": [
      "Idx de restricciones con 0 variables [132]\n",
      "Idx de objetivos = 0 [132]\n",
      "Idx donde q = 0 []\n"
     ]
    }
   ],
   "source": [
    "idx_ineqs = restr[restr.loc[:,'Simb'].astype(float) == 1].index.values.astype('int32')\n",
    "#del restr\n",
    "#del PRESUP\n",
    "A = csr_matrix(np.vstack(A).astype('bool'))\n",
    "b = np.array(b).astype('int64')\n",
    "\n",
    "# Las 3 listas deberían dar vacías\n",
    "print('Idx de restricciones con 0 variables', np.where(A.sum(axis=1) == 0)[0])\n",
    "print('Idx de objetivos = 0', np.where(b == 0)[0])\n",
    "print('Idx donde q = 0', np.where(q == 0)[0])"
   ]
  },
  {
   "cell_type": "code",
   "execution_count": 13,
   "metadata": {},
   "outputs": [
    {
     "data": {
      "text/html": [
       "<div>\n",
       "<style scoped>\n",
       "    .dataframe tbody tr th:only-of-type {\n",
       "        vertical-align: middle;\n",
       "    }\n",
       "\n",
       "    .dataframe tbody tr th {\n",
       "        vertical-align: top;\n",
       "    }\n",
       "\n",
       "    .dataframe thead th {\n",
       "        text-align: right;\n",
       "    }\n",
       "</style>\n",
       "<table border=\"1\" class=\"dataframe\">\n",
       "  <thead>\n",
       "    <tr style=\"text-align: right;\">\n",
       "      <th></th>\n",
       "      <th>CMHSA</th>\n",
       "      <th>Canal</th>\n",
       "      <th>Cantidad</th>\n",
       "      <th>Cliente</th>\n",
       "      <th>Flia</th>\n",
       "      <th>GrupoEconomico</th>\n",
       "      <th>Periodo</th>\n",
       "      <th>PorcentajeRelativo</th>\n",
       "      <th>PorcentajeTotal</th>\n",
       "      <th>Prod</th>\n",
       "      <th>Simb</th>\n",
       "      <th>Suc</th>\n",
       "      <th>Zona</th>\n",
       "    </tr>\n",
       "  </thead>\n",
       "  <tbody>\n",
       "    <tr>\n",
       "      <th>132</th>\n",
       "      <td>NaN</td>\n",
       "      <td>NaN</td>\n",
       "      <td>0.0</td>\n",
       "      <td>NaN</td>\n",
       "      <td>NaN</td>\n",
       "      <td>NaN</td>\n",
       "      <td>201909</td>\n",
       "      <td>NaN</td>\n",
       "      <td>NaN</td>\n",
       "      <td>3150.0</td>\n",
       "      <td>NaN</td>\n",
       "      <td>NaN</td>\n",
       "      <td>NaN</td>\n",
       "    </tr>\n",
       "  </tbody>\n",
       "</table>\n",
       "</div>"
      ],
      "text/plain": [
       "     CMHSA  Canal  Cantidad  Cliente  Flia  GrupoEconomico  Periodo  \\\n",
       "132    NaN    NaN       0.0      NaN   NaN             NaN   201909   \n",
       "\n",
       "     PorcentajeRelativo  PorcentajeTotal    Prod  Simb  Suc  Zona  \n",
       "132                 NaN              NaN  3150.0   NaN  NaN   NaN  "
      ]
     },
     "execution_count": 13,
     "metadata": {},
     "output_type": "execute_result"
    }
   ],
   "source": [
    "restr.iloc[np.where(b == 0)]"
   ]
  },
  {
   "cell_type": "code",
   "execution_count": 14,
   "metadata": {},
   "outputs": [
    {
     "data": {
      "text/plain": [
       "True"
      ]
     },
     "execution_count": 14,
     "metadata": {},
     "output_type": "execute_result"
    }
   ],
   "source": [
    "# Si no es True, falla\n",
    "(q == 0).sum() == 0"
   ]
  },
  {
   "cell_type": "code",
   "execution_count": 15,
   "metadata": {},
   "outputs": [
    {
     "data": {
      "text/plain": [
       "((147, 1612076), (1612076,), (147,))"
      ]
     },
     "execution_count": 15,
     "metadata": {},
     "output_type": "execute_result"
    }
   ],
   "source": [
    "A.shape, q.shape, b.shape"
   ]
  },
  {
   "cell_type": "code",
   "execution_count": null,
   "metadata": {},
   "outputs": [],
   "source": [
    "np.save('A.npy', A)\n",
    "np.save('b.npy', A)\n",
    "np.save('q.npy', A)"
   ]
  },
  {
   "cell_type": "code",
   "execution_count": 16,
   "metadata": {},
   "outputs": [],
   "source": [
    "# Calculamos la distribución. EL número que se imprime es el \"error\", o \n",
    "# diferencia total entre los valores actuales y las restricciones\n",
    "\n",
    "def solve(A, q, b, \n",
    "          idx_ineqs = [],\n",
    "          verbose=True, \n",
    "          precision=10, \n",
    "          max_tries=3):\n",
    "    \n",
    "    c = 0\n",
    "    d_ = np.inf\n",
    "    while True:\n",
    "        p = (b / (A @ q))\n",
    "        idx_ineqs_ok = np.where(p[idx_ineqs] > 1 + 1e-10)\n",
    "        p[idx_ineqs_ok] = 1\n",
    "        d = np.linalg.norm((b - (A @ q))[[idx for idx in range(A.shape[0]) if idx not in idx_ineqs_ok]])\n",
    "        if verbose: print(f\"{d:.2f}\", end=' ')\n",
    "        if d >= d_ - 0.01:\n",
    "            c += 1\n",
    "        d_ = d\n",
    "        if (c == max_tries) | (d_ < precision):\n",
    "            break\n",
    "        A_= A.multiply(p[:, np.newaxis])\n",
    "        P = np.squeeze(np.array(np.true_divide(A_.sum(0), (A_!=0).sum(0))))\n",
    "        q = q * P\n",
    "        if np.isnan(d):\n",
    "            print('NaN error. Hay 0s en q, probable restricción inválida.')\n",
    "            break\n",
    "    return q"
   ]
  },
  {
   "cell_type": "code",
   "execution_count": 17,
   "metadata": {},
   "outputs": [
    {
     "name": "stdout",
     "output_type": "stream",
     "text": [
      "5455867.49 2823397.58 2280243.73 1913913.87 1626890.86 1390675.24 1192678.69 1025278.65 883003.76 761623.13 657756.33 568656.08 492064.84 426111.84 369235.97 320126.90 277679.21 240956.31 209161.73 181616.01 157737.93 137029.18 119061.63 103466.86 89927.35 78169.12 67955.48 59081.74 51370.83 44669.35 38844.41 33780.79 29378.57 25551.03 22222.91 19328.85 16812.12 14623.40 12719.87 11064.31 9624.37 8371.93 7282.56 6335.00 5510.77 4793.82 4170.17 3627.67 3155.76 2745.25 2388.15 2077.51 1807.28 1572.20 1367.71 1189.81 1035.06 900.43 783.32 681.43 592.80 515.70 448.63 390.28 339.52 295.36 256.95 223.53 194.46 169.17 147.16 128.02 111.37 96.89 84.29 73.32 63.79 55.49 48.27 42.00 36.53 31.78 27.65 24.05 20.92 18.20 15.84 13.78 11.98 10.43 9.07 \n",
      "\n"
     ]
    }
   ],
   "source": [
    "q = solve(A, q, b, idx_ineqs)\n",
    "Q.loc[:, 'Z'] = q\n",
    "Q = Q[['Periodo', 'Cliente', 'Suc', 'Prod', 'Flia', 'VtaNeta', 'WarmStart', 'Z']]\n",
    "print('\\n')"
   ]
  },
  {
   "cell_type": "code",
   "execution_count": 18,
   "metadata": {},
   "outputs": [
    {
     "name": "stdout",
     "output_type": "stream",
     "text": [
      "Difs:[ 8.646 -0.    -0.015 -0.004 -0.025 -0.    -0.    -0.003 -0.006 -0.   ]\n",
      "\n",
      "Norma 1552.35\n",
      "Max 3.28\n",
      "Min 0.53\n",
      "Media 1.19\n",
      "Mayores a 1.00 1443791\n",
      "Mayores a 0.30 1612076\n",
      "Negativos 0\n",
      "Norm Aq-b 9.069\n"
     ]
    },
    {
     "data": {
      "image/png": "[encoded data removed]",
      "text/plain": [
       "<Figure size 432x288 with 1 Axes>"
      ]
     },
     "metadata": {
      "needs_background": "light"
     },
     "output_type": "display_data"
    }
   ],
   "source": [
    "print(f\"Difs:{(A @ q - b)[:10]}\", end='\\n'*2)\n",
    "\n",
    "neto_col = 'VtaNeta'\n",
    "res = check_sol(A, q, b, Q=Q)"
   ]
  },
  {
   "cell_type": "code",
   "execution_count": 19,
   "metadata": {},
   "outputs": [
    {
     "data": {
      "text/plain": [
       "Prod\n",
       "69          0.277926\n",
       "68          0.326646\n",
       "254         0.398631\n",
       "1120        0.401962\n",
       "3090        0.450653\n",
       "288         0.474737\n",
       "1172        0.488993\n",
       "1171        0.548577\n",
       "54          0.565005\n",
       "944         0.572995\n",
       "438         0.580744\n",
       "1771        0.593207\n",
       "1670        0.613379\n",
       "1661        0.616917\n",
       "769         0.627993\n",
       "1629        0.636292\n",
       "653         0.655964\n",
       "1870        0.658470\n",
       "1711        0.660857\n",
       "711         0.668543\n",
       "714         0.672762\n",
       "487         0.676697\n",
       "660         0.679085\n",
       "3450        0.680600\n",
       "3085        0.680800\n",
       "1655        0.684944\n",
       "325         0.685562\n",
       "1710        0.686097\n",
       "1418        0.689068\n",
       "1042        0.689124\n",
       "            ...     \n",
       "289         0.978796\n",
       "941         0.988392\n",
       "635         0.989566\n",
       "1412        0.997511\n",
       "3491        1.039314\n",
       "190         1.047416\n",
       "376         1.050622\n",
       "940         1.051760\n",
       "15          1.057603\n",
       "1862        1.076837\n",
       "3710        1.100140\n",
       "56          1.104681\n",
       "560         1.163106\n",
       "724         1.173556\n",
       "3321        1.201903\n",
       "1947        1.241589\n",
       "959         1.269711\n",
       "960         1.299728\n",
       "779         1.347084\n",
       "1945        1.355963\n",
       "778         1.424546\n",
       "1860        1.445922\n",
       "942         1.892076\n",
       "943         2.065215\n",
       "1309        2.519752\n",
       "3063        2.557514\n",
       "1308        3.807042\n",
       "72       3852.941176\n",
       "151     13555.625000\n",
       "3150             NaN\n",
       "Length: 146, dtype: float64"
      ]
     },
     "metadata": {},
     "output_type": "display_data"
    },
    {
     "data": {
      "text/plain": [
       "'Max: 13555.625| Min: 0.278 | Mean: 120.921'"
      ]
     },
     "metadata": {},
     "output_type": "display_data"
    }
   ],
   "source": [
    "# Vemos los cambios proporcionales entre el nuevo presupuesto y el anterior\n",
    "\n",
    "dif = PRESUP.divide(Q.groupby('Prod')['VtaNeta'].sum())\n",
    "display(dif.sort_values())\n",
    "display(f\"Max: {dif.max():.3f}| Min: {dif.min():.3f} | Mean: {dif.mean():.3f}\")\n",
    "Q['DifProd'] = dif[Q['Prod']].values"
   ]
  },
  {
   "cell_type": "code",
   "execution_count": 20,
   "metadata": {},
   "outputs": [],
   "source": [
    "res_0 = (b / (A @ Q['VtaNeta']))\n",
    "res_warm = (b / (A @ Q['WarmStart']))\n",
    "res_1 = (b / (A @ Q['Z']))"
   ]
  },
  {
   "cell_type": "code",
   "execution_count": 21,
   "metadata": {},
   "outputs": [
    {
     "data": {
      "text/plain": [
       "array([    0.692,     1.058,     0.75 ,     0.699,     0.565,     1.105,\n",
       "           0.86 ,     0.824,     0.708,     0.327,     0.278,  3852.941,\n",
       "           0.79 ,     0.7  ,     0.838,     0.804, 13555.625,     0.773,\n",
       "           1.047,     0.752,     0.778,     0.399,     0.741,     0.475,\n",
       "           0.979,     0.686,     0.779,     0.768,     0.82 ,     1.051,\n",
       "           0.8  ,     0.924,     0.581,     0.741,     0.757,     0.962,\n",
       "           0.848,     0.794,     0.677,     1.163,     0.704,     0.875,\n",
       "           0.892,     0.99 ,     0.808,     0.931,     0.656,     0.679,\n",
       "           0.825,     0.852,     0.757,     0.832,     0.794,     0.861,\n",
       "           0.805,     0.669,     0.673,     0.903,     1.174,     0.742,\n",
       "           0.826,     0.755,     0.771,     0.764,     0.628,     1.425,\n",
       "           1.347,     0.735,     0.708,     1.052,     0.988,     1.892,\n",
       "           2.065,     0.573,     1.27 ,     1.3  ,     0.767,     0.825,\n",
       "           0.689,     0.93 ,     0.402,     0.803,     0.807,     0.694,\n",
       "           0.97 ,     0.549,     0.489,     3.807,     2.52 ,     0.798,\n",
       "           0.792,     0.876,     0.998,     0.955,     0.913,     0.689,\n",
       "           0.797,     0.695,     0.755,     0.636,     0.915,     0.834,\n",
       "           0.834,     0.685,     0.82 ,     0.935,     0.617,     0.747,\n",
       "           0.707,     0.859,     0.613,     0.813,     0.686,     0.661,\n",
       "           0.722,     0.767,     0.734,     0.705,     0.593,     0.796,\n",
       "           1.446,     0.859,     1.077,     0.658,     1.356,     0.795,\n",
       "           1.242,     0.812,     2.558,     0.681,     0.716,     0.451,\n",
       "             nan,     0.731,     0.804,     0.814,     0.787,     0.866,\n",
       "           1.202,     0.763,     0.827,     0.681,     1.039,     0.957,\n",
       "           0.713,     0.694,     1.1  ])"
      ]
     },
     "execution_count": 21,
     "metadata": {},
     "output_type": "execute_result"
    }
   ],
   "source": [
    "# Valores proporcionales previos con respecto a los objetivos\n",
    "res_0"
   ]
  },
  {
   "cell_type": "code",
   "execution_count": 22,
   "metadata": {},
   "outputs": [
    {
     "data": {
      "text/plain": [
       "array([0.757, 1.   , 1.   , 1.   , 1.   , 1.   , 1.   , 1.   , 1.   ,\n",
       "       1.   , 1.   , 1.   , 1.   , 1.   , 1.   , 1.   , 1.   , 1.   ,\n",
       "       1.   , 1.   , 1.   , 1.   , 1.   , 1.   , 1.   , 1.   , 1.   ,\n",
       "       1.   , 1.   , 1.   , 1.   , 1.   , 1.   , 1.   , 1.   , 1.   ,\n",
       "       1.   , 1.   , 1.   , 1.   , 1.   , 1.   , 1.   , 1.   , 1.   ,\n",
       "       1.   , 1.   , 1.   , 1.   , 1.   , 1.   , 1.   , 1.   , 1.   ,\n",
       "       1.   , 1.   , 1.   , 1.   , 1.   , 1.   , 1.   , 1.   , 1.   ,\n",
       "       1.   , 1.   , 1.   , 1.   , 1.   , 1.   , 1.   , 1.   , 1.   ,\n",
       "       1.   , 1.   , 1.   , 1.   , 1.   , 1.   , 1.   , 1.   , 1.   ,\n",
       "       1.   , 1.   , 1.   , 1.   , 1.   , 1.   , 1.   , 1.   , 1.   ,\n",
       "       1.   , 1.   , 1.   , 1.   , 1.   , 1.   , 1.   , 1.   , 1.   ,\n",
       "       1.   , 1.   , 1.   , 1.   , 1.   , 1.   , 1.   , 1.   , 1.   ,\n",
       "       1.   , 1.   , 1.   , 1.   , 1.   , 1.   , 1.   , 1.   , 1.   ,\n",
       "       1.   , 1.   , 1.   , 1.   , 1.   , 1.   , 1.   , 1.   , 1.   ,\n",
       "       1.   , 1.   , 1.   , 1.   , 1.   , 1.   ,   nan, 1.   , 1.   ,\n",
       "       1.   , 1.   , 1.   , 1.   , 1.   , 1.   , 1.   , 1.   , 1.   ,\n",
       "       1.   , 1.   , 1.   ])"
      ]
     },
     "execution_count": 22,
     "metadata": {},
     "output_type": "execute_result"
    }
   ],
   "source": [
    "# Valores del WarmStart con respecto a los objetivos\n",
    "res_warm"
   ]
  },
  {
   "cell_type": "code",
   "execution_count": 23,
   "metadata": {},
   "outputs": [
    {
     "data": {
      "text/plain": [
       "array([ 1.,  1.,  1.,  1.,  1.,  1.,  1.,  1.,  1.,  1.,  1.,  1.,  1.,\n",
       "        1.,  1.,  1.,  1.,  1.,  1.,  1.,  1.,  1.,  1.,  1.,  1.,  1.,\n",
       "        1.,  1.,  1.,  1.,  1.,  1.,  1.,  1.,  1.,  1.,  1.,  1.,  1.,\n",
       "        1.,  1.,  1.,  1.,  1.,  1.,  1.,  1.,  1.,  1.,  1.,  1.,  1.,\n",
       "        1.,  1.,  1.,  1.,  1.,  1.,  1.,  1.,  1.,  1.,  1.,  1.,  1.,\n",
       "        1.,  1.,  1.,  1.,  1.,  1.,  1.,  1.,  1.,  1.,  1.,  1.,  1.,\n",
       "        1.,  1.,  1.,  1.,  1.,  1.,  1.,  1.,  1.,  1.,  1.,  1.,  1.,\n",
       "        1.,  1.,  1.,  1.,  1.,  1.,  1.,  1.,  1.,  1.,  1.,  1.,  1.,\n",
       "        1.,  1.,  1.,  1.,  1.,  1.,  1.,  1.,  1.,  1.,  1.,  1.,  1.,\n",
       "        1.,  1.,  1.,  1.,  1.,  1.,  1.,  1.,  1.,  1.,  1.,  1.,  1.,\n",
       "        1.,  1., nan,  1.,  1.,  1.,  1.,  1.,  1.,  1.,  1.,  1.,  1.,\n",
       "        1.,  1.,  1.,  1.])"
      ]
     },
     "execution_count": 23,
     "metadata": {},
     "output_type": "execute_result"
    }
   ],
   "source": [
    "# Valores resultantes \n",
    "res_1"
   ]
  },
  {
   "cell_type": "code",
   "execution_count": 24,
   "metadata": {},
   "outputs": [
    {
     "data": {
      "text/html": [
       "<div>\n",
       "<style scoped>\n",
       "    .dataframe tbody tr th:only-of-type {\n",
       "        vertical-align: middle;\n",
       "    }\n",
       "\n",
       "    .dataframe tbody tr th {\n",
       "        vertical-align: top;\n",
       "    }\n",
       "\n",
       "    .dataframe thead th {\n",
       "        text-align: right;\n",
       "    }\n",
       "</style>\n",
       "<table border=\"1\" class=\"dataframe\">\n",
       "  <thead>\n",
       "    <tr style=\"text-align: right;\">\n",
       "      <th></th>\n",
       "      <th>Periodo</th>\n",
       "      <th>Cliente</th>\n",
       "      <th>Suc</th>\n",
       "      <th>Prod</th>\n",
       "      <th>Flia</th>\n",
       "      <th>VtaNeta</th>\n",
       "      <th>WarmStart</th>\n",
       "      <th>Z</th>\n",
       "      <th>Dif</th>\n",
       "      <th>DifProd</th>\n",
       "    </tr>\n",
       "  </thead>\n",
       "  <tbody>\n",
       "    <tr>\n",
       "      <th>1307518</th>\n",
       "      <td>201909</td>\n",
       "      <td>496990</td>\n",
       "      <td>1</td>\n",
       "      <td>560</td>\n",
       "      <td>1</td>\n",
       "      <td>1.70</td>\n",
       "      <td>1.977280</td>\n",
       "      <td>2.353375</td>\n",
       "      <td>1.190208</td>\n",
       "      <td>1.163106</td>\n",
       "    </tr>\n",
       "    <tr>\n",
       "      <th>1132321</th>\n",
       "      <td>201909</td>\n",
       "      <td>484980</td>\n",
       "      <td>1</td>\n",
       "      <td>677</td>\n",
       "      <td>13</td>\n",
       "      <td>0.20</td>\n",
       "      <td>0.166494</td>\n",
       "      <td>0.207281</td>\n",
       "      <td>1.244977</td>\n",
       "      <td>0.832468</td>\n",
       "    </tr>\n",
       "    <tr>\n",
       "      <th>1075051</th>\n",
       "      <td>201909</td>\n",
       "      <td>132953</td>\n",
       "      <td>78</td>\n",
       "      <td>476</td>\n",
       "      <td>13</td>\n",
       "      <td>52.35</td>\n",
       "      <td>41.549486</td>\n",
       "      <td>29.590758</td>\n",
       "      <td>0.712181</td>\n",
       "      <td>0.793686</td>\n",
       "    </tr>\n",
       "    <tr>\n",
       "      <th>1181607</th>\n",
       "      <td>201909</td>\n",
       "      <td>445412</td>\n",
       "      <td>1</td>\n",
       "      <td>1411</td>\n",
       "      <td>3</td>\n",
       "      <td>0.33</td>\n",
       "      <td>0.288916</td>\n",
       "      <td>0.347830</td>\n",
       "      <td>1.203915</td>\n",
       "      <td>0.875502</td>\n",
       "    </tr>\n",
       "    <tr>\n",
       "      <th>929777</th>\n",
       "      <td>201909</td>\n",
       "      <td>428533</td>\n",
       "      <td>1</td>\n",
       "      <td>3346</td>\n",
       "      <td>1</td>\n",
       "      <td>9.00</td>\n",
       "      <td>7.441349</td>\n",
       "      <td>12.452869</td>\n",
       "      <td>1.673469</td>\n",
       "      <td>0.826817</td>\n",
       "    </tr>\n",
       "    <tr>\n",
       "      <th>1289792</th>\n",
       "      <td>201909</td>\n",
       "      <td>407798</td>\n",
       "      <td>1</td>\n",
       "      <td>1661</td>\n",
       "      <td>13</td>\n",
       "      <td>0.20</td>\n",
       "      <td>0.123383</td>\n",
       "      <td>0.152416</td>\n",
       "      <td>1.235307</td>\n",
       "      <td>0.616917</td>\n",
       "    </tr>\n",
       "    <tr>\n",
       "      <th>410550</th>\n",
       "      <td>201909</td>\n",
       "      <td>450135</td>\n",
       "      <td>1</td>\n",
       "      <td>448</td>\n",
       "      <td>1</td>\n",
       "      <td>1.00</td>\n",
       "      <td>0.961530</td>\n",
       "      <td>1.040882</td>\n",
       "      <td>1.082527</td>\n",
       "      <td>0.961530</td>\n",
       "    </tr>\n",
       "    <tr>\n",
       "      <th>1277855</th>\n",
       "      <td>201909</td>\n",
       "      <td>472718</td>\n",
       "      <td>1</td>\n",
       "      <td>706</td>\n",
       "      <td>13</td>\n",
       "      <td>4.00</td>\n",
       "      <td>3.220808</td>\n",
       "      <td>3.270251</td>\n",
       "      <td>1.015351</td>\n",
       "      <td>0.805202</td>\n",
       "    </tr>\n",
       "    <tr>\n",
       "      <th>1078834</th>\n",
       "      <td>201909</td>\n",
       "      <td>242801</td>\n",
       "      <td>1</td>\n",
       "      <td>406</td>\n",
       "      <td>7</td>\n",
       "      <td>3.60</td>\n",
       "      <td>2.880523</td>\n",
       "      <td>3.808080</td>\n",
       "      <td>1.322010</td>\n",
       "      <td>0.800145</td>\n",
       "    </tr>\n",
       "    <tr>\n",
       "      <th>422656</th>\n",
       "      <td>201909</td>\n",
       "      <td>482999</td>\n",
       "      <td>1</td>\n",
       "      <td>1670</td>\n",
       "      <td>13</td>\n",
       "      <td>1.90</td>\n",
       "      <td>1.165419</td>\n",
       "      <td>1.518980</td>\n",
       "      <td>1.303377</td>\n",
       "      <td>0.613379</td>\n",
       "    </tr>\n",
       "  </tbody>\n",
       "</table>\n",
       "</div>"
      ],
      "text/plain": [
       "         Periodo  Cliente  Suc  Prod  Flia  VtaNeta  WarmStart          Z  \\\n",
       "1307518   201909   496990    1   560     1     1.70   1.977280   2.353375   \n",
       "1132321   201909   484980    1   677    13     0.20   0.166494   0.207281   \n",
       "1075051   201909   132953   78   476    13    52.35  41.549486  29.590758   \n",
       "1181607   201909   445412    1  1411     3     0.33   0.288916   0.347830   \n",
       "929777    201909   428533    1  3346     1     9.00   7.441349  12.452869   \n",
       "1289792   201909   407798    1  1661    13     0.20   0.123383   0.152416   \n",
       "410550    201909   450135    1   448     1     1.00   0.961530   1.040882   \n",
       "1277855   201909   472718    1   706    13     4.00   3.220808   3.270251   \n",
       "1078834   201909   242801    1   406     7     3.60   2.880523   3.808080   \n",
       "422656    201909   482999    1  1670    13     1.90   1.165419   1.518980   \n",
       "\n",
       "              Dif   DifProd  \n",
       "1307518  1.190208  1.163106  \n",
       "1132321  1.244977  0.832468  \n",
       "1075051  0.712181  0.793686  \n",
       "1181607  1.203915  0.875502  \n",
       "929777   1.673469  0.826817  \n",
       "1289792  1.235307  0.616917  \n",
       "410550   1.082527  0.961530  \n",
       "1277855  1.015351  0.805202  \n",
       "1078834  1.322010  0.800145  \n",
       "422656   1.303377  0.613379  "
      ]
     },
     "execution_count": 24,
     "metadata": {},
     "output_type": "execute_result"
    }
   ],
   "source": [
    "Q.sample(10)"
   ]
  },
  {
   "cell_type": "code",
   "execution_count": 25,
   "metadata": {},
   "outputs": [
    {
     "data": {
      "text/plain": [
       "13555.625"
      ]
     },
     "execution_count": 25,
     "metadata": {},
     "output_type": "execute_result"
    }
   ],
   "source": [
    "PRESUP[151] / Q.groupby('Prod')['VtaNeta'].sum()[151]"
   ]
  },
  {
   "cell_type": "markdown",
   "metadata": {},
   "source": [
    "El algoritmo falla cuando existen valores iguales a 0 en el vector **q** en el momento en el que se calcula **b / Aq**, siendo **b** los objetivos de las restricciones, **A** una matriz binaria que selecciona las variables correspondientes, y **q** el vector con las ventas de cada producto para cada sucursal"
   ]
  },
  {
   "cell_type": "code",
   "execution_count": null,
   "metadata": {},
   "outputs": [],
   "source": [
    "%%time\n",
    "import scipy.optimize\n",
    "sol_ = scipy.optimize.minimize(lambda x: np.linalg.norm(A @ x - b, ord=2), q, bounds = [(0, None) for i in range(m)])\n",
    "sol_sci = sol_['x']"
   ]
  },
  {
   "cell_type": "code",
   "execution_count": null,
   "metadata": {},
   "outputs": [],
   "source": []
  },
  {
   "cell_type": "markdown",
   "metadata": {},
   "source": [
    "### Notas:\n",
    "    "
   ]
  },
  {
   "cell_type": "code",
   "execution_count": null,
   "metadata": {},
   "outputs": [],
   "source": [
    "import sqlalchemy\n",
    "engine = sqlalchemy.create_engine(f\"mysql+pyodbc://{UID}:{PWD}@{SERVER}/{DATABASE}?driver=SQL+Server\")\n",
    "df = df.sample(10)\n",
    "df.to_sql(table_name, con=engine, if_exists='replace')"
   ]
  },
  {
   "cell_type": "code",
   "execution_count": 6,
   "metadata": {},
   "outputs": [],
   "source": [
    "np.random.seed(101)\n",
    "p, d, c = 139, 17, 3\n",
    "t = p*d*c\n",
    "PRES = np.random.randint(10000, 20000, size = p)\n",
    "HIST = np.floor(np.random.normal(PRES.sum()//t, size = t))\n",
    "\n",
    "# Tensor con una var para cada producto+deposito+canal\n",
    "Q = np.arange(t).reshape((p,d,c))\n",
    "x = cp.Variable(t)\n",
    "\n",
    "\n",
    "solvers =  ['CVXOPT', 'GLPK', 'GLPK_MI', 'SCS', 'LS']\n",
    "\n",
    "objs = [cp.sum_squares(x - HIST), cp.sum_squares(x - HIST) - sum(x), cp.sum_squares(x - HIST) - 2*sum(x), \n",
    "        cp.sum_squares(x - HIST) - 3*sum(x), cp.sum_squares(x - HIST) - cp.sum_squares(x)]"
   ]
  },
  {
   "cell_type": "code",
   "execution_count": null,
   "metadata": {},
   "outputs": [],
   "source": [
    "%%time\n",
    "\n",
    "d = {}\n",
    "for m in solvers:\n",
    "    for j in range(len(objs)):\n",
    "        for z in [0, 1]:\n",
    "            try:\n",
    "                d[(m, str(j), ['==', '<='][z])] = solve(p, d, c, PRES, HIST, m, objs[j], z)\n",
    "            except:\n",
    "                d[(m, str(j), ['==', '<='][z])] = None"
   ]
  },
  {
   "cell_type": "code",
   "execution_count": null,
   "metadata": {},
   "outputs": [],
   "source": []
  },
  {
   "cell_type": "code",
   "execution_count": null,
   "metadata": {},
   "outputs": [],
   "source": [
    "u,s,vh = sparse.linalg.svds((A @ W).T)\n",
    "M2, N2 = A.shape\n",
    "eps = np.finfo(float).eps\n",
    "tol = max(M2,N2) * np.amax(s) * eps\n",
    "num = np.sum(s > tol, dtype=int)\n",
    "ort = u[:,:num]"
   ]
  },
  {
   "cell_type": "code",
   "execution_count": null,
   "metadata": {},
   "outputs": [],
   "source": []
  },
  {
   "cell_type": "markdown",
   "metadata": {},
   "source": [
    "#### References \n",
    "\n",
    "\n",
    "Belotti, P., Kirches, C., Leyffer, S., Linderoth, J., Luedtke, J., & Mahajan, A. (2013). Mixed-integer nonlinear optimization. Acta Numerica, 22, 1-131.\n",
    "\n",
    "Boyd, S., & Vandenberghe, L. (2004). Convex optimization. Cambridge university press.\n",
    "\n",
    "Paige, C. C., & Saunders, M. A. (1982). LSQR: An algorithm for sparse linear equations and sparse least squares. ACM Transactions on Mathematical Software (TOMS), 8(1), 43-71."
   ]
  },
  {
   "cell_type": "code",
   "execution_count": null,
   "metadata": {},
   "outputs": [],
   "source": []
  }
 ],
 "metadata": {
  "kernelspec": {
   "display_name": "Python 3",
   "language": "python",
   "name": "python3"
  },
  "language_info": {
   "codemirror_mode": {
    "name": "ipython",
    "version": 3
   },
   "file_extension": ".py",
   "mimetype": "text/x-python",
   "name": "python",
   "nbconvert_exporter": "python",
   "pygments_lexer": "ipython3",
   "version": "3.7.3"
  },
  "nikola": {
   "author": "MG",
   "date": "14/11/2019",
   "slug": "Entre gradientes",
   "tags": "business, math",
   "title": "entre gradientes"
  }
 },
 "nbformat": 4,
 "nbformat_minor": 4
}
