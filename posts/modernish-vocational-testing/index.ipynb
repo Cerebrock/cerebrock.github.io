{
 "cells": [
  {
   "cell_type": "markdown",
   "metadata": {},
   "source": [
    "Write your post here."
   ]
  }
 ],
 "metadata": {
  "kernelspec": {
   "display_name": "Python 3",
   "env": {},
   "interrupt_mode": "signal",
   "language": "python",
   "metadata": {},
   "name": "python3"
  },
  "nikola": {
   "category": "",
   "date": "2019-11-08 02:23:51 UTC-03:00",
   "description": "",
   "link": "",
   "slug": "modernish-vocational-testing",
   "tags": "",
   "title": "Modern...ish Vocational Testing",
   "type": "text"
  }
 },
 "nbformat": 4,
 "nbformat_minor": 2
}
